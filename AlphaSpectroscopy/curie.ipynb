{
 "cells": [
  {
   "cell_type": "markdown",
   "metadata": {},
   "source": [
    "This program will calculate an estimate and error for the radioactivity of our ${}^{210}Po$ sample. Ostensibly it could also estimate the mass of the sample.\n",
    "\n",
    "Reminder: The variance of a poisson distribution is $\\sqrt{N}$"
   ]
  },
  {
   "cell_type": "code",
   "execution_count": 1,
   "metadata": {},
   "outputs": [],
   "source": [
    "from scipy import constants\n",
    "curie = 3.7E10 # decays / second"
   ]
  },
  {
   "cell_type": "code",
   "execution_count": 11,
   "metadata": {},
   "outputs": [],
   "source": [
    "# collect data from the minimum pressure spectra\n",
    "\n",
    "from os import walk\n",
    "import re\n",
    "from mca import extract_data\n",
    "from matplotlib import pyplot as plt\n",
    "import numpy as np\n",
    "\n",
    "path = 'datafiles/7torr'\n",
    "filenames = next(walk(path), (None, None, []))[2]\n",
    "\n",
    "bq = []\n",
    "σ_live = 1\n",
    "σ_bq = []\n",
    "\n",
    "for filename in filenames:\n",
    "    if filename.startswith('spectrum'):\n",
    "        pressure = re.findall('\\d+', filename)[0] # torr\n",
    "        pressure = int(pressure)\n",
    "        data = extract_data(path + '/' + filename)\n",
    "        counts = sum(data['data'])\n",
    "        livetime = data['meas_live']\n",
    "        bq.append(counts / livetime)\n",
    "        σ_N = np.sqrt(counts)\n",
    "        σ_bq.append(\n",
    "            np.sqrt(σ_N**2 + counts**2*σ_live**2/livetime**2) / livetime\n",
    "        )"
   ]
  },
  {
   "cell_type": "code",
   "execution_count": 16,
   "metadata": {},
   "outputs": [
    {
     "name": "stdout",
     "output_type": "stream",
     "text": [
      "[26.64935065 26.88311688 25.64935065 25.64935065 25.28571429]\n",
      "[0.68255222 0.68631197 0.66638554 0.66638554 0.66047195]\n"
     ]
    }
   ],
   "source": [
    "bq = np.array(bq)\n",
    "σ_bq = np.array(σ_bq)\n",
    "\n",
    "print(bq)\n",
    "print(σ_bq)"
   ]
  },
  {
   "cell_type": "markdown",
   "metadata": {},
   "source": [
    "The standard error of the weighted mean (with variance weights) is:\n",
    "\n",
    "$$\\sigma_x = \\sqrt{\\frac{1}{\\sum_{i=1}^n \\frac{1}{\\sigma_{i}}}}$$"
   ]
  },
  {
   "cell_type": "code",
   "execution_count": 22,
   "metadata": {},
   "outputs": [
    {
     "data": {
      "image/png": "[encoded data removed]",
      "text/plain": [
       "<Figure size 432x288 with 1 Axes>"
      ]
     },
     "metadata": {
      "needs_background": "light"
     },
     "output_type": "display_data"
    }
   ],
   "source": [
    "bq_bar = np.average(bq, weights=1/σ_bq**2)\n",
    "σ_bq_bar = np.sqrt(1/np.sum(1/σ_bq**2))\n",
    "\n",
    "plt.plot(np.arange(len(bq)), bq_bar*np.ones(len(bq)))\n",
    "plt.errorbar(np.arange(len(bq)), bq, yerr=σ_bq, fmt='o')\n",
    "plt.show()"
   ]
  },
  {
   "cell_type": "code",
   "execution_count": 23,
   "metadata": {},
   "outputs": [
    {
     "name": "stdout",
     "output_type": "stream",
     "text": [
      "The average counts per second is 26.004701361521022\n",
      "The uncertainty in the average counts per second is 0.30061463060383997\n"
     ]
    }
   ],
   "source": [
    "print(\"The average counts per second is\", bq_bar)\n",
    "print(\"The uncertainty in the average counts per second is\", σ_bq_bar)"
   ]
  },
  {
   "cell_type": "markdown",
   "metadata": {},
   "source": [
    "$$\\text{counts / second} = 26.00 \\pm 0.30$$\n",
    "\n",
    "On page 3 of my lab notebook I calculate the solid angle subtended by the detector (with a standard deviation due to measurement uncertainty) in milli-sterradians.\n",
    "\n",
    "$$81.4 \\pm 7.3 msr$$"
   ]
  },
  {
   "cell_type": "code",
   "execution_count": 25,
   "metadata": {},
   "outputs": [],
   "source": [
    "# ratio of particles that would hit the detector to total emissions\n",
    "s = 81.4e-3/(4*np.pi)\n",
    "σ_s = 7.3e-3/(4*np.pi)"
   ]
  },
  {
   "cell_type": "code",
   "execution_count": 42,
   "metadata": {},
   "outputs": [
    {
     "name": "stdout",
     "output_type": "stream",
     "text": [
      "Radioactivity is: 0.10850146590895934 µci\n",
      "Uncertainty in radioactivity is: 0.0017738171369554162 µci\n",
      "Grams of Polonium-210: 0.0241445819171464 ng\n",
      "Uncertainty in grams of Polonium-210: 0.0003947234519872203 ng\n"
     ]
    }
   ],
   "source": [
    "emissionsPerSecond = bq_bar/s\n",
    "print(\"Radioactivity is:\", emissionsPerSecond/curie/constants.micro, \"µci\")\n",
    "σ_emissionsPerSecond = np.sqrt(σ_bq_bar**2 + s**2*σ_bq_bar**2/s**2)/s\n",
    "print(\"Uncertainty in radioactivity is:\", σ_emissionsPerSecond/curie/constants.micro, \"µci\")\n",
    "halflife = 138.378*24*60**2 # seconds\n",
    "molar_mass = 209.98 # g/mol\n",
    "atoms = halflife*emissionsPerSecond/np.log(2)\n",
    "σ_atoms = halflife*σ_emissionsPerSecond/np.log(2)\n",
    "σ_grams = σ_atoms*209.98/constants.N_A\n",
    "print(\"Grams of Polonium-210:\", atoms*209.98/constants.N_A / constants.nano , \"ng\")\n",
    "print(\"Uncertainty in grams of Polonium-210:\", σ_grams / constants.nano, \"ng\")"
   ]
  },
  {
   "cell_type": "markdown",
   "metadata": {},
   "source": [
    "The measured radioactivity of our sample is $0.1085 \\pm 0.0018$ µci, which is likely correct since [the posting](https://www.pasco.com/products/lab-apparatus/atomic-and-nuclear/sn-9085) sells them in $0.1$ µci samples."
   ]
  }
 ],
 "metadata": {
  "interpreter": {
   "hash": "2db524e06e9f5f4ffedc911c917cb75e12dbc923643829bf417064a77eb14d37"
  },
  "kernelspec": {
   "display_name": "Python 3.8.0 64-bit",
   "language": "python",
   "name": "python3"
  },
  "language_info": {
   "codemirror_mode": {
    "name": "ipython",
    "version": 3
   },
   "file_extension": ".py",
   "mimetype": "text/x-python",
   "name": "python",
   "nbconvert_exporter": "python",
   "pygments_lexer": "ipython3",
   "version": "3.8.0"
  },
  "orig_nbformat": 4
 },
 "nbformat": 4,
 "nbformat_minor": 2
}
