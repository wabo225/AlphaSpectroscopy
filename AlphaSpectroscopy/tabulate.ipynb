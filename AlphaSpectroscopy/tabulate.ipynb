{
 "cells": [
  {
   "cell_type": "code",
   "execution_count": 2,
   "metadata": {},
   "outputs": [],
   "source": [
    "import numpy as np\n",
    "from matplotlib import pyplot as plt\n",
    "import mca\n",
    "\n",
    "from scipy.constants import *"
   ]
  },
  {
   "cell_type": "code",
   "execution_count": 3,
   "metadata": {},
   "outputs": [],
   "source": [
    "path = ('datafiles', 'spectrum')\n",
    "table = np.zeros((mca.trials(*path), 3))\n",
    "\n",
    "def callaback(data, i):\n",
    "    table[i, 0] = data['pressure']\n",
    "    table[i, 1] = data['FWHM']\n",
    "    table[i, 2] = data['R']\n",
    "\n",
    "mca.map_folder(*path, callaback)"
   ]
  },
  {
   "cell_type": "code",
   "execution_count": 4,
   "metadata": {},
   "outputs": [],
   "source": [
    "table = table[table[:,0].argsort()]\n",
    "# print(table)\n",
    "# plt.plot(table[:,0], table[:,2], '.')\n",
    "# plt.ylabel(r'FWHM $FWHM$ MeV')\n",
    "# plt.xlabel(r'Pressure $P$ MeV/cm${}^2$')"
   ]
  },
  {
   "cell_type": "code",
   "execution_count": 16,
   "metadata": {},
   "outputs": [
    {
     "name": "stderr",
     "output_type": "stream",
     "text": [
      "C:\\Users\\wabod\\AppData\\Local\\Temp/ipykernel_24624/2012915306.py:24: RuntimeWarning: divide by zero encountered in log\n",
      "  B = Z_t*np.log(4 * m_e*E / (m_p * I * micro)) - 0.9\n"
     ]
    },
    {
     "data": {
      "image/png": "[encoded data removed]",
      "text/plain": [
       "<Figure size 432x288 with 1 Axes>"
      ]
     },
     "metadata": {
      "needs_background": "light"
     },
     "output_type": "display_data"
    }
   ],
   "source": [
    "P_sat = lambda T: 610.78*10**((7.5*T-2048.625)/(T-35.85))\n",
    "\n",
    "def rho(P_torr, T, Φ):\n",
    "    '''\n",
    "    @param T: temperature in °C\n",
    "    @param P_torr: pressure in torr\n",
    "    @param Φ: humidity in %\n",
    "    @returns a function of linear distance in centimeters which represents the areal density in mg/cm^2.\n",
    "    '''\n",
    "    T = T + 273.15\n",
    "    P = P_torr * 133.3224\n",
    "    P_v = P_sat(T)*Φ\n",
    "    P_d = P - P_v\n",
    "    R_d = 287.058\n",
    "    R_v = 461.495\n",
    "    return (1/T)*(P_d/R_d + P_v/R_v)\n",
    "\n",
    "def Bethe_Bloch(E):\n",
    "    I = 32.5*micro\n",
    "    Z_p = 2\n",
    "    Z_t = 7.2\n",
    "    N = 2 / 14.4 * Avogadro\n",
    "    r_e = 2.8179*10**(-15)\n",
    "    B = Z_t*np.log(4 * m_e*E / (m_p * I * micro)) - 0.9\n",
    "    # print(B)\n",
    "    return 2*np.pi*r_e**2 * (0.511)**2 * Z_p**2 * N * m_p/m_e * B / E\n",
    "\n",
    "x = np.arange(0, 5.3, 0.1)\n",
    "plt.plot(x, Bethe_Bloch(x), '-')\n",
    "plt.show()\n"
   ]
  },
  {
   "cell_type": "code",
   "execution_count": 11,
   "metadata": {},
   "outputs": [
    {
     "name": "stdout",
     "output_type": "stream",
     "text": [
      "140.85615229257024\n",
      "140.85615229257024\n",
      "140.85615229257024\n",
      "140.85615229257024\n",
      "140.85615229257024\n",
      "140.85615229257024\n",
      "140.85615229257024\n",
      "140.85615229257024\n",
      "140.85615229257024\n",
      "140.85615229257024\n",
      "140.85615229257024\n",
      "140.85615229257024\n",
      "140.85615229257024\n",
      "140.85615229257024\n",
      "140.85615229257024\n",
      "140.85615229257024\n",
      "140.85615229257024\n",
      "140.85615229257024\n",
      "140.85615229257024\n",
      "140.85615229257024\n",
      "140.85615229257024\n",
      "140.85615229257024\n",
      "140.85615229257024\n",
      "140.85615229257024\n",
      "140.85615229257024\n",
      "140.85615229257024\n",
      "140.85615229257024\n",
      "140.85615229257024\n",
      "140.85615229257024\n",
      "140.85615229257024\n",
      "140.85615229257024\n",
      "140.85615229257024\n",
      "140.85615229257024\n",
      "140.85615229257024\n",
      "140.85615229257024\n",
      "140.85615229257024\n",
      "140.85615229257024\n",
      "140.85615229257024\n",
      "140.85615229257024\n",
      "140.85615229257024\n",
      "140.85615229257024\n",
      "140.85615229257024\n",
      "140.85615229257024\n",
      "140.85615229257024\n",
      "140.85615229257024\n",
      "140.85615229257024\n",
      "140.85615229257024\n",
      "140.85615229257024\n",
      "140.85615229257024\n",
      "140.85615229257024\n",
      "140.85615229257024\n",
      "140.85615229257024\n",
      "140.85615229257024\n",
      "140.85615229257024\n",
      "140.85615229257024\n",
      "140.85615229257024\n",
      "140.85615229257024\n",
      "140.85615229257024\n",
      "140.85615229257024\n",
      "140.85615229257024\n",
      "140.85615229257024\n",
      "140.85615229257024\n",
      "140.85615229257024\n",
      "140.85615229257024\n",
      "140.85615229257024\n",
      "140.85615229257024\n",
      "140.85615229257024\n",
      "140.85615229257024\n",
      "140.85615229257024\n",
      "140.85615229257024\n",
      "140.85615229257024\n",
      "140.85615229257024\n",
      "140.85615229257024\n",
      "140.85615229257024\n",
      "140.85615229257024\n",
      "140.85615229257024\n",
      "140.85615229257024\n",
      "140.85615229257024\n",
      "140.85615229257024\n",
      "140.85615229257024\n",
      "140.85615229257024\n",
      "140.85615229257024\n",
      "140.85615229257024\n",
      "140.85615229257024\n",
      "140.85615229257024\n",
      "140.85615229257024\n",
      "140.85615229257024\n",
      "140.85615229257024\n",
      "140.85615229257024\n",
      "140.85615229257024\n",
      "140.85615229257024\n",
      "140.85615229257024\n",
      "140.85615229257024\n",
      "140.85615229257024\n",
      "140.85615229257024\n",
      "140.85615229257024\n",
      "140.85615229257024\n",
      "140.85615229257024\n",
      "140.85615229257024\n",
      "140.85615229257024\n",
      "140.85615229257024\n",
      "140.85615229257024\n",
      "140.85615229257024\n",
      "140.85615229257024\n",
      "140.85615229257024\n",
      "140.85615229257024\n",
      "140.85615229257024\n",
      "140.85615229257024\n",
      "140.85615229257024\n",
      "140.85615229257024\n",
      "140.85615229257024\n",
      "140.85615229257024\n",
      "140.85615229257024\n",
      "140.85615229257024\n",
      "140.85615229257024\n",
      "140.85615229257024\n",
      "140.85615229257024\n",
      "140.85615229257024\n",
      "140.85615229257024\n",
      "140.85615229257024\n",
      "140.85615229257024\n",
      "140.85615229257024\n",
      "140.85615229257024\n",
      "140.85615229257024\n",
      "140.85615229257024\n",
      "140.85615229257024\n",
      "140.85615229257024\n",
      "140.85615229257024\n",
      "140.85615229257024\n",
      "140.85615229257024\n",
      "140.85615229257024\n",
      "140.85615229257024\n",
      "140.85615229257024\n",
      "140.85615229257024\n",
      "140.85615229257024\n",
      "140.85615229257024\n",
      "140.85615229257024\n",
      "140.85615229257024\n",
      "140.85615229257024\n",
      "140.85615229257024\n",
      "140.85615229257024\n",
      "140.85615229257024\n",
      "140.85615229257024\n",
      "140.85615229257024\n",
      "140.85615229257024\n",
      "140.85615229257024\n",
      "140.85615229257024\n",
      "140.85615229257024\n",
      "140.85615229257024\n",
      "140.85615229257024\n"
     ]
    },
    {
     "data": {
      "image/png": "[encoded data removed]",
      "text/plain": [
       "<Figure size 432x288 with 1 Axes>"
      ]
     },
     "metadata": {
      "needs_background": "light"
     },
     "output_type": "display_data"
    }
   ],
   "source": [
    "rhos = np.arange(0, 15, 0.1)\n",
    "\n",
    "plt.plot(rhos, [Bethe_Bloch(5.3, r) for r in rhos])\n",
    "plt.show()"
   ]
  },
  {
   "cell_type": "code",
   "execution_count": null,
   "metadata": {},
   "outputs": [],
   "source": []
  }
 ],
 "metadata": {
  "interpreter": {
   "hash": "2db524e06e9f5f4ffedc911c917cb75e12dbc923643829bf417064a77eb14d37"
  },
  "kernelspec": {
   "display_name": "Python 3.8.0 64-bit",
   "language": "python",
   "name": "python3"
  },
  "language_info": {
   "codemirror_mode": {
    "name": "ipython",
    "version": 3
   },
   "file_extension": ".py",
   "mimetype": "text/x-python",
   "name": "python",
   "nbconvert_exporter": "python",
   "pygments_lexer": "ipython3",
   "version": "3.8.0"
  },
  "orig_nbformat": 4
 },
 "nbformat": 4,
 "nbformat_minor": 2
}
