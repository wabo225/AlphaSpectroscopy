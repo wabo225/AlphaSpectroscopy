{
 "cells": [
  {
   "cell_type": "markdown",
   "metadata": {},
   "source": [
    "In order to find these quantities, we measured the temperature and humidity daily. Barometric pressure is the same through large areas, so this can be found on weather records.\n",
    "\n",
    "Temperature fluctuated significantly during lab meetings. I recorded $65.5^\\circ F \\rightarrow 66.2^\\circ F$ on January 27th, so I'll use a higher value for temperature ($\\sigma_F = 1^\\circ C$) uncertainty than I could. A cleverer scientist would have temperature measurements automatically recorded into their data logs. I would also like to note that writing the temperature in fahrenheit is actually preferable because, once converted there is less uncertainty in the temperature. In fact, an error of $1^\\circ F$ corresponds to an error of $0.56^\\circ C$, nearly doubling our precision. Of course this also makes the numbers look like they were taken from a more accurate machine that they were. The hundredth's place is misleading, but it does contain some information. \n",
    "\n",
    "$\\sigma_T = 0.56^\\circ C$\n",
    "\n",
    "|  Date  | T(C)  | Humidity |\n",
    "|--------|-------|----------|\n",
    "|  1/25  | 19.2  | 20%      |\n",
    "|  1/27  | 19.61 | 20%      |\n",
    "|  2/01  | 21.61 | 20%      |\n",
    "\n",
    "\n",
    "I should consider writing a script to write the temperature and humidity into all of my data sheets, based off this chart.\n",
    "\n",
    "The areal density of a a sample is defined as\n",
    "\n",
    "$$\\tau \\equiv \\rho L$$\n",
    "$$\\tau \\equiv (\\rho_d + \\rho_v)L$$\n",
    "$$\\tau \\equiv (\\frac{P_d}{R_dT} + \\frac{P_v}{R_vT})L$$\n",
    "$R_d = 287.058 J/Kg \\cdot K$\n",
    "$R_d = 461.495 J/Kg \\cdot K$\n",
    "\n",
    "$P$, the total barometric pressure is something that we record. The dry and vapor pressures must add to this value. The saturation vapor pressure times the humidity gives the vapor pressure in air.\n",
    "\n",
    "$$P_v = \\phi \\times P_{sat}$$\n",
    "Unfortunately the saturation pressure is determined by\n",
    "$$P_{sat} = 610.78 \\times 10^{\\frac{7.5T-2048.625}{T-35.85}}$$"
   ]
  },
  {
   "cell_type": "code",
   "execution_count": 39,
   "metadata": {},
   "outputs": [
    {
     "name": "stdout",
     "output_type": "stream",
     "text": [
      "292.34999999999997 2224.786376254321 7.756033133033816\n",
      "292.76 2282.2412488270243 7.930972042694157\n",
      "294.76 2581.5142921761017 8.832988385347017\n"
     ]
    }
   ],
   "source": [
    "import numpy as np\n",
    "from matplotlib import pyplot as plt\n",
    "from scipy.misc import derivative\n",
    "\n",
    "TC = [19.2, 19.61, 21.61]\n",
    "TK = [t+273.15 for t in TC]\n",
    "# print(TK)\n",
    "\n",
    "P_sat = lambda T: 610.78*10**((7.5*T-2048.625)/(T-35.85))\n",
    "# print([P_sat(t) for t in TK])\n",
    "\n",
    "TK = np.arange(292, 295, 0.01)\n",
    "P_s = np.array([P_sat(t) for t in TK])\n",
    "# plt.plot(TK, P_s)\n",
    "\n",
    "def dP_vdT(t):\n",
    "    return np.gradient(P_s, 0.1)[int((t-292)/0.01)]\n",
    "\n",
    "def σ_P_sat(T, σ_T):\n",
    "    return dP_vdT(T)*σ_T\n",
    "\n",
    "TK = [t+273.15 for t in TC]\n",
    "\n",
    "for T in TK:\n",
    "    print(T, P_sat(T), σ_P_sat(T, 0.56))"
   ]
  },
  {
   "cell_type": "code",
   "execution_count": 50,
   "metadata": {},
   "outputs": [
    {
     "name": "stdout",
     "output_type": "stream",
     "text": [
      "P_v   =  444.95727525086426 N/m^2\n",
      "σ_P_v =  22.301876243830073 N/m^2\n",
      "\n",
      "P_v   =  456.44824976540485 N/m^2\n",
      "σ_P_v =  22.877467615241713 N/m^2\n",
      "\n",
      "P_v   =  516.3028584352204 N/m^2\n",
      "σ_P_v =  25.87551876626969 N/m^2\n",
      "\n"
     ]
    }
   ],
   "source": [
    "Φ = 0.20\n",
    "σ_Φ = 0.01\n",
    "P_v = []\n",
    "σ_P_v = []\n",
    "for T in TK:\n",
    "    P_v.append(P_sat(T)*Φ)\n",
    "    σ_P_v.append(P_sat(T)*Φ*σ_Φ)\n",
    "    \n",
    "    print(\"P_v   = \", P_sat(T)*Φ, \"N/m^2\")\n",
    "    print(\"σ_P_v = \", np.sqrt(P_sat(T)**2*σ_Φ**2 + σ_P_sat(T, 0.56)**2*Φ**2), \"N/m^2\\n\")\n",
    "\n",
    "P_v = np.array(P_v)\n",
    "σ_P_v = np.array(σ_P_v)"
   ]
  },
  {
   "cell_type": "code",
   "execution_count": 68,
   "metadata": {},
   "outputs": [
    {
     "name": "stdout",
     "output_type": "stream",
     "text": [
      "P=array([99085.91567183, 98442.500635  , 98476.36458431])\n",
      "σ_P=array([ 291.30870676, 1822.37137089, 1531.38455103])\n"
     ]
    }
   ],
   "source": [
    "weather = np.array([\n",
    "    [29.31, 29.26, 29.19],\n",
    "    [29.43, 29.07, 28.67],\n",
    "    [29.45, 29.08, 28.82]\n",
    "])\n",
    "\n",
    "P = weather[:, 1]\n",
    "σ_P = np.sqrt((weather[:,0] - weather[:,1])**2+(weather[:,1]-weather[:,2])**2)\n",
    "P *= 101_325 / 29.9212\n",
    "σ_P *= 101_325 / 29.9212\n",
    "print(f'{P=}')\n",
    "print(f'{σ_P=}')\n",
    "\n",
    "P_d = P - P_v\n",
    "σ_P_d = np.sqrt(σ_P**2 + σ_P_v**2)"
   ]
  },
  {
   "cell_type": "code",
   "execution_count": 69,
   "metadata": {},
   "outputs": [],
   "source": [
    "def τ(P_torr, T, Φ):\n",
    "    '''\n",
    "    @param T: temperature in °C\n",
    "    @param P_torr: pressure in torr\n",
    "    @param Φ: humidity in %\n",
    "    @returns a function of linear distance in meters which represents the areal density.\n",
    "    '''\n",
    "    T = T + 273.15\n",
    "    P = P_torr * 133.3224\n",
    "    P_v = P_sat(T)*Φ\n",
    "    P_d = P - P_v\n",
    "    R_d = 287.058\n",
    "    R_v = 461.495\n",
    "    return lambda L : (L/T)*(P_d/R_d + P_v/R_v)\n",
    "\n",
    "def σ_τ(T, P_torr, Φ, σ_T, σ_P_torr, σ_Φ):\n",
    "    '''\n",
    "    @param T: temperature in °C \n",
    "    @param P_torr: pressure in torr\n",
    "    @param Φ: humidity in %\n",
    "    @param σ_T: temperature uncertainty in °C\n",
    "    @param σ_P_torr: pressure uncertainty in torr\n",
    "    @param σ_Φ: humidity uncertainty in %\n",
    "    @returns a function of linear distance in meters which represents the uncertainty in areal density.\n",
    "\n",
    "    @todo finish this implementation\n",
    "    '''\n",
    "    arealDensity = τ(T, P_torr, Φ)\n",
    "    T = T + 273.15\n",
    "    return lambda L, σ_L: np.sqrt(\n",
    "        arealDensity(L)**2 * ( σ_T**2/T**2 + σ_L**2/L**2 ) + L**2/T**2\n",
    "    )"
   ]
  }
 ],
 "metadata": {
  "interpreter": {
   "hash": "2db524e06e9f5f4ffedc911c917cb75e12dbc923643829bf417064a77eb14d37"
  },
  "kernelspec": {
   "display_name": "Python 3.8.0 64-bit",
   "language": "python",
   "name": "python3"
  },
  "language_info": {
   "name": "python",
   "version": "3.8.0"
  },
  "orig_nbformat": 4
 },
 "nbformat": 4,
 "nbformat_minor": 2
}
