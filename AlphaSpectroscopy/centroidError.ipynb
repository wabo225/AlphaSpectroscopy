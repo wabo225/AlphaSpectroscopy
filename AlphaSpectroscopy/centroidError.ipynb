{
 "cells": [
  {
   "cell_type": "code",
   "execution_count": 2,
   "metadata": {},
   "outputs": [],
   "source": [
    "from ast import arg\n",
    "from os import walk\n",
    "from mca import extract_data\n",
    "import re\n",
    "from matplotlib import pyplot as plt\n",
    "import numpy as np"
   ]
  },
  {
   "cell_type": "markdown",
   "metadata": {},
   "source": [
    "It is important to note that using a hamming window increases the precision of the centroid. Since the centroids will be rectified via a calibration anyway, this process should not be the cause for concern.\n"
   ]
  },
  {
   "cell_type": "code",
   "execution_count": 1,
   "metadata": {},
   "outputs": [],
   "source": [
    "def centroid_error(path, pressure=7):\n",
    "    '''\n",
    "    This function takes a path to a directory containing the output of the MCA program and returns the sample standard deviation in the error.\n",
    "    '''\n",
    "    filenames = next(walk(path), (None, None, []))[2]\n",
    "\n",
    "    channels = []\n",
    "\n",
    "    for filename in filenames:\n",
    "        if filename.startswith(f'spectrum{pressure}_'):\n",
    "            # print(filename)\n",
    "            pressure = int(re.findall('\\d+', filename)[0]) # torr\n",
    "            data = extract_data(path + '/' + filename)\n",
    "            data['data'] = np.convolve(data['data'], np.hamming(15))\n",
    "            channels.append(np.argmax(data['data']))\n",
    "    \n",
    "    print(channels)\n",
    "    # print(np.std(channels))\n",
    "    return np.mean(channels), np.std(channels)"
   ]
  },
  {
   "cell_type": "code",
   "execution_count": 3,
   "metadata": {},
   "outputs": [
    {
     "name": "stdout",
     "output_type": "stream",
     "text": [
      "[418, 418, 419, 419, 419]\n",
      "418.6 0.48989794855663565\n"
     ]
    }
   ],
   "source": [
    "path = 'datafiles/7torr/'\n",
    "mean, std = centroid_error(path, pressure=7)\n",
    "print(mean, std)"
   ]
  },
  {
   "cell_type": "markdown",
   "metadata": {},
   "source": [
    "I can imagine using the RS232 output of the pressure gauge to characterize the actual pressure loss to fix the error in these channels."
   ]
  },
  {
   "cell_type": "code",
   "execution_count": 4,
   "metadata": {},
   "outputs": [
    {
     "name": "stdout",
     "output_type": "stream",
     "text": [
      "[245, 243, 243, 243, 242, 242]\n"
     ]
    },
    {
     "data": {
      "text/plain": [
       "(243.0, 1.0)"
      ]
     },
     "execution_count": 4,
     "metadata": {},
     "output_type": "execute_result"
    }
   ],
   "source": [
    "path = 'datafiles/374torr/'\n",
    "centroid_error(path, pressure=374)"
   ]
  },
  {
   "cell_type": "code",
   "execution_count": null,
   "metadata": {},
   "outputs": [],
   "source": []
  }
 ],
 "metadata": {
  "interpreter": {
   "hash": "2db524e06e9f5f4ffedc911c917cb75e12dbc923643829bf417064a77eb14d37"
  },
  "kernelspec": {
   "display_name": "Python 3.8.0 64-bit",
   "language": "python",
   "name": "python3"
  },
  "language_info": {
   "codemirror_mode": {
    "name": "ipython",
    "version": 3
   },
   "file_extension": ".py",
   "mimetype": "text/x-python",
   "name": "python",
   "nbconvert_exporter": "python",
   "pygments_lexer": "ipython3",
   "version": "3.8.0"
  },
  "orig_nbformat": 4
 },
 "nbformat": 4,
 "nbformat_minor": 2
}
